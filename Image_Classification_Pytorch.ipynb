{
 "cells": [
  {
   "cell_type": "code",
   "execution_count": 1,
   "id": "329b518f-1bdd-46f2-96ae-a488e5fa2de6",
   "metadata": {},
   "outputs": [],
   "source": [
    "import torch\n",
    "import torch.nn as nn\n",
    "import torchvision\n",
    "from torchvision import transforms, utils, datasets, models\n",
    "from torchvision.utils import make_grid\n",
    "import os\n",
    "from PIL import Image, ImageFile\n",
    "ImageFile.LOAD_TRUNCATED_IMAGES = True\n",
    "import matplotlib.pyplot as plt"
   ]
  },
  {
   "cell_type": "code",
   "execution_count": 2,
   "id": "84236a70-7f4b-416e-884b-ef35d5182a3c",
   "metadata": {},
   "outputs": [],
   "source": [
    "# file_paths = list()\n",
    "# for root, dirs, files in os.walk(os.path.abspath(path)):\n",
    "#     for file in files:\n",
    "#         file_paths.append(os.path.join(root, file))\n",
    "\n",
    "\n",
    "path = f\"{os.getcwd()}\\\\classification_train\"\n",
    "new = [f\"{path}\\\\new\\\\{file}\" for file in  os.listdir(f\"{path}\\\\new\\\\\")]\n",
    "old = [f\"{path}\\\\old\\\\{file}\" for file in  os.listdir(f\"{path}\\\\old\\\\\")]\n",
    "file_paths = new + old"
   ]
  },
  {
   "cell_type": "code",
   "execution_count": 3,
   "id": "bec70ef4-60a1-49f8-bdf4-f9e936d3dcc7",
   "metadata": {},
   "outputs": [],
   "source": [
    "# len(file_paths)\n",
    "# file_paths[0]"
   ]
  },
  {
   "cell_type": "code",
   "execution_count": 4,
   "id": "20e90f19-e0c8-4536-bd52-4f78b2487897",
   "metadata": {},
   "outputs": [],
   "source": [
    "img_transforms = torchvision.transforms.Compose(\n",
    "    [\n",
    "        torchvision.transforms.Resize((100,100)),\n",
    "        torchvision.transforms.RandomHorizontalFlip(),\n",
    "        torchvision.transforms.ToTensor(),\n",
    "        torchvision.transforms.Normalize(\n",
    "            mean=[0.5,0.5,0.5], std=[0.5,0.5,0.5]\n",
    "        ),\n",
    "    ]\n",
    ")\n",
    "\n",
    "BATCH_SIZE = 64\n",
    "\n",
    "\n",
    "model_dataset = datasets.ImageFolder(path, transform=img_transforms) \n",
    "train_count = int(0.7 * len(file_paths)) \n",
    "val_count = int(0.2 * len(file_paths))\n",
    "test_count = len(file_paths) - train_count - val_count\n",
    "train_data, val_data, test_data = torch.utils.data.random_split(model_dataset, (train_count, val_count, test_count))\n",
    "\n",
    "\n",
    "train_data_loader = torch.utils.data.DataLoader(train_data, batch_size = BATCH_SIZE, shuffle=True)\n",
    "val_data_loader  = torch.utils.data.DataLoader(val_data, batch_size = BATCH_SIZE, shuffle=True) \n",
    "test_data_loader  = torch.utils.data.DataLoader(test_data, batch_size = BATCH_SIZE, shuffle=False)\n",
    "\n",
    "# dataloaders = {'train': train_dataset_loader, 'val': valid_dataset_loader, 'test': test_dataset_loader}"
   ]
  },
  {
   "cell_type": "code",
   "execution_count": 5,
   "id": "f5487bfc-1d30-4d1e-bd2a-67c7e0f89cbe",
   "metadata": {},
   "outputs": [],
   "source": [
    "sample = next(iter(train_data_loader))\n",
    "imgs, lbls = sample"
   ]
  },
  {
   "cell_type": "code",
   "execution_count": 6,
   "id": "6e0182b1",
   "metadata": {},
   "outputs": [
    {
     "data": {
      "text/plain": [
       "tensor([1, 0, 1, 1, 1, 1, 0, 1, 1, 0, 1, 1, 1, 0, 1, 0, 0, 0, 1, 0, 1, 0, 1, 1,\n",
       "        1, 1, 0, 0, 0, 1, 0, 1, 0, 1, 1, 0, 1, 1, 0, 0, 0, 1, 0, 0, 1, 1, 1, 0,\n",
       "        1, 1, 0, 0, 1, 0, 1, 1, 0, 1, 0, 1, 0, 0, 1, 0])"
      ]
     },
     "execution_count": 6,
     "metadata": {},
     "output_type": "execute_result"
    }
   ],
   "source": [
    "lbls"
   ]
  },
  {
   "cell_type": "code",
   "execution_count": 7,
   "id": "1c7a4818-929e-402e-a779-2ad3be3d82e6",
   "metadata": {},
   "outputs": [],
   "source": [
    "# for item in train_data_loader:\n",
    "#     plt.figure(figsize=(16, 8))\n",
    "#     image, _ = item\n",
    "#     plt.imshow(make_grid(image, nrow=16).permute(1, 2, 0))\n",
    "#     plt.axis(\"off\")\n",
    "#     plt.show()\n",
    "#     break"
   ]
  },
  {
   "cell_type": "code",
   "execution_count": 8,
   "id": "25fbcb6c-1a23-4455-8b0c-11795f678c3b",
   "metadata": {},
   "outputs": [],
   "source": [
    "class CustomizedConvNet(nn.Module):\n",
    "    def __init__(self,number_of_classes):\n",
    "        super().__init__() #Inheritance\n",
    "        \n",
    "        self.conv1 = nn.Conv2d(in_channels=3,out_channels=12,padding=1,kernel_size=3)\n",
    "        self.bn1=nn.BatchNorm2d(num_features=12)\n",
    "        self.relu1=nn.ReLU()\n",
    "        self.pool1 = nn.MaxPool2d(kernel_size=2)\n",
    "        \n",
    "        self.conv2 = nn.Conv2d(in_channels=12,out_channels=20,padding=1,kernel_size=3)\n",
    "        self.bn2=nn.BatchNorm2d(num_features=20)\n",
    "        self.relu2=nn.ReLU()\n",
    "        \n",
    "        self.conv3 = nn.Conv2d(in_channels=20,out_channels=32,padding=1,kernel_size=3)\n",
    "        self.bn3=nn.BatchNorm2d(num_features=32)\n",
    "        self.relu3=nn.ReLU()\n",
    "        self.pool3 = nn.MaxPool2d(kernel_size=2)\n",
    "        \n",
    "\n",
    "        self.fc1=nn.Linear(32*25*25, 5)\n",
    "\n",
    "    \n",
    "    def forward(self, Input):\n",
    "        \n",
    "        output=self.conv1(Input)\n",
    "        output=self.bn1(output)\n",
    "        output=self.relu1(output)\n",
    "        output=self.pool1(output)\n",
    "        \n",
    "        output=self.conv2(output)\n",
    "        output=self.bn2(output)\n",
    "        output=self.relu2(output)\n",
    "        \n",
    "        output=self.conv3(output)\n",
    "        output=self.bn3(output)\n",
    "        output=self.relu3(output)\n",
    "        output=self.pool3(output)\n",
    "    \n",
    "        \n",
    "        output = torch.flatten(output, 1)\n",
    "        output = output.view(-1,32*25*25)\n",
    "        output=self.fc1(output)\n",
    "        \n",
    "        return output"
   ]
  },
  {
   "cell_type": "code",
   "execution_count": 9,
   "id": "2ebfc36a-68c3-4ed1-bc68-6b6b9b185e92",
   "metadata": {},
   "outputs": [
    {
     "data": {
      "text/plain": [
       "CustomizedConvNet(\n",
       "  (conv1): Conv2d(3, 12, kernel_size=(3, 3), stride=(1, 1), padding=(1, 1))\n",
       "  (bn1): BatchNorm2d(12, eps=1e-05, momentum=0.1, affine=True, track_running_stats=True)\n",
       "  (relu1): ReLU()\n",
       "  (pool1): MaxPool2d(kernel_size=2, stride=2, padding=0, dilation=1, ceil_mode=False)\n",
       "  (conv2): Conv2d(12, 20, kernel_size=(3, 3), stride=(1, 1), padding=(1, 1))\n",
       "  (bn2): BatchNorm2d(20, eps=1e-05, momentum=0.1, affine=True, track_running_stats=True)\n",
       "  (relu2): ReLU()\n",
       "  (conv3): Conv2d(20, 32, kernel_size=(3, 3), stride=(1, 1), padding=(1, 1))\n",
       "  (bn3): BatchNorm2d(32, eps=1e-05, momentum=0.1, affine=True, track_running_stats=True)\n",
       "  (relu3): ReLU()\n",
       "  (pool3): MaxPool2d(kernel_size=2, stride=2, padding=0, dilation=1, ceil_mode=False)\n",
       "  (fc1): Linear(in_features=20000, out_features=5, bias=True)\n",
       ")"
      ]
     },
     "execution_count": 9,
     "metadata": {},
     "output_type": "execute_result"
    }
   ],
   "source": [
    "model = CustomizedConvNet(2)\n",
    "if torch.cuda.is_available():\n",
    "    device = torch.device(\"cuda\") \n",
    "else:\n",
    "    device = torch.device(\"cpu\")\n",
    "model.to(device)\n",
    "model"
   ]
  },
  {
   "cell_type": "code",
   "execution_count": 10,
   "id": "698cfc1b-f561-4ec6-8102-820c209b6e57",
   "metadata": {},
   "outputs": [],
   "source": [
    "def accuracy(pred, label):\n",
    "    _, out = torch.max(pred, dim=1)\n",
    "    return torch.tensor(torch.sum(out == label).item()/len(pred))\n",
    "\n",
    "def validation_step(valid_dl, model, loss_fn):\n",
    "    for image, label in valid_dl:\n",
    "        out = model(image)\n",
    "        loss = loss_fn(out, label)\n",
    "        acc = accuracy(out, label)\n",
    "        return {\"val_loss\": loss, \"val_acc\": acc}\n",
    "def fit_to_model(train_dl, valid_dl, epochs, optimizer, loss_fn, model):\n",
    "    history = []\n",
    "    for epoch in range(epochs):\n",
    "        for image, label in train_dl:\n",
    "            out = model(image)\n",
    "            loss = loss_fn(out, label)\n",
    "            loss.backward()\n",
    "            optimizer.step()\n",
    "            optimizer.zero_grad()\n",
    "            \n",
    "            \n",
    "        val = validation_step(valid_dl, model, loss_fn)\n",
    "        print(f\"Epoch [{epoch}/{epochs}] => loss: {loss}, val_loss: {val['val_loss']}, val_acc: {val['val_acc']}\")\n",
    "        history.append({\"loss\": loss, \n",
    "                        \"val_loss\": val['val_loss'], \n",
    "                        \"val_acc\": val['val_acc']\n",
    "                       })\n",
    "    return history\n",
    "\n"
   ]
  },
  {
   "cell_type": "code",
   "execution_count": 11,
   "id": "41f192c8-6a01-4a8e-b71a-6e84db47dd40",
   "metadata": {},
   "outputs": [
    {
     "name": "stdout",
     "output_type": "stream",
     "text": [
      "Epoch [0/1] => loss: 0.04723470285534859, val_loss: 0.02542233094573021, val_acc: 1.0\n"
     ]
    }
   ],
   "source": [
    "Loss = nn.CrossEntropyLoss()\n",
    "optimizer = torch.optim.Adam(model.parameters(), lr=0.0001)\n",
    "epochs = 1\n",
    "history = fit_to_model(train_data_loader, val_data_loader, epochs, optimizer, Loss, model)"
   ]
  },
  {
   "cell_type": "code",
   "execution_count": 12,
   "id": "21b68e87-510b-4aec-b068-d4ac16e992a7",
   "metadata": {},
   "outputs": [],
   "source": [
    "torch.save(model.state_dict(), './model.pth')"
   ]
  },
  {
   "cell_type": "code",
   "execution_count": 13,
   "id": "8f43d01d-c9f5-4d5f-995b-aa7f08c7b087",
   "metadata": {},
   "outputs": [
    {
     "data": {
      "text/plain": [
       "CustomizedConvNet(\n",
       "  (conv1): Conv2d(3, 12, kernel_size=(3, 3), stride=(1, 1), padding=(1, 1))\n",
       "  (bn1): BatchNorm2d(12, eps=1e-05, momentum=0.1, affine=True, track_running_stats=True)\n",
       "  (relu1): ReLU()\n",
       "  (pool1): MaxPool2d(kernel_size=2, stride=2, padding=0, dilation=1, ceil_mode=False)\n",
       "  (conv2): Conv2d(12, 20, kernel_size=(3, 3), stride=(1, 1), padding=(1, 1))\n",
       "  (bn2): BatchNorm2d(20, eps=1e-05, momentum=0.1, affine=True, track_running_stats=True)\n",
       "  (relu2): ReLU()\n",
       "  (conv3): Conv2d(20, 32, kernel_size=(3, 3), stride=(1, 1), padding=(1, 1))\n",
       "  (bn3): BatchNorm2d(32, eps=1e-05, momentum=0.1, affine=True, track_running_stats=True)\n",
       "  (relu3): ReLU()\n",
       "  (pool3): MaxPool2d(kernel_size=2, stride=2, padding=0, dilation=1, ceil_mode=False)\n",
       "  (fc1): Linear(in_features=20000, out_features=5, bias=True)\n",
       ")"
      ]
     },
     "execution_count": 13,
     "metadata": {},
     "output_type": "execute_result"
    }
   ],
   "source": [
    "model = CustomizedConvNet(2)\n",
    "model.load_state_dict(torch.load('model.pth'))\n",
    "model.eval()"
   ]
  },
  {
   "cell_type": "code",
   "execution_count": 14,
   "id": "f0551e0e-2166-42ac-8085-5d5006a40e6b",
   "metadata": {},
   "outputs": [
    {
     "name": "stdout",
     "output_type": "stream",
     "text": [
      "Predicted class:  old\n"
     ]
    }
   ],
   "source": [
    "image_path  = './classification_train/old/1BC6N9W_old.png'\n",
    "\n",
    "image = Image.open(image_path)\n",
    "\n",
    "input_tensor = img_transforms(image)\n",
    "input_batch = input_tensor.unsqueeze(0)\n",
    "\n",
    "\n",
    "with torch.no_grad():\n",
    "    output = model(input_batch)\n",
    "\n",
    "probabilities = torch.nn.functional.softmax(output[0], dim=0)\n",
    "predicted_class = torch.argmax(probabilities).item()\n",
    "\n",
    "# Print the predicted class\n",
    "print(f\"Predicted class:  {model_dataset.classes[predicted_class]}\")"
   ]
  },
  {
   "cell_type": "code",
   "execution_count": null,
   "id": "b6ad3040-3327-47da-a22f-a70a317a3b14",
   "metadata": {},
   "outputs": [],
   "source": []
  }
 ],
 "metadata": {
  "kernelspec": {
   "display_name": "Python 3 (ipykernel)",
   "language": "python",
   "name": "python3"
  },
  "language_info": {
   "codemirror_mode": {
    "name": "ipython",
    "version": 3
   },
   "file_extension": ".py",
   "mimetype": "text/x-python",
   "name": "python",
   "nbconvert_exporter": "python",
   "pygments_lexer": "ipython3",
   "version": "3.10.13"
  }
 },
 "nbformat": 4,
 "nbformat_minor": 5
}
